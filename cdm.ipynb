{
    "cells": [
        {
            "cell_type": "code",
            "execution_count": 1,
            "metadata": {},
            "outputs": [],
            "source": [
                "%matplotlib inline\n",
                "from IPython.display import clear_output\n",
                "import time\n",
                "from Environments.environments import all_envs, get_all_avail_envs, get_all_avail_test_envs, test_envs\n",
                "from Agents.dqn_agent import DQN_Agent\n",
                "from Agents.ppo_agent import PPO_Agent\n",
                "from Models import fc, rnn\n",
                "import matplotlib.pyplot as plt\n",
                "import torch\n",
                "import utils\n",
                "from Curriculum_managers.random_curriculum import Random_Curriculum\n",
                "from Curriculum_managers.paired_curriculum import PAIRED_Curriculum\n",
                "from Curriculum_managers.paired_curriculum_no_regret_teacher_entropy import PAIRED_Curriculum_no_regret_entropy\n",
                "from Curriculum_managers.paired_curriculum_no_regret_teacher_history import PAIRED_Curriculum_no_regret_history\n",
                "from Curriculum_managers.paired_curriculum_no_regulator import Curriculum_Entropy_Only\n",
                "from Curriculum_managers.paired_curriculum_no_regulator_history import Curriculum_Entropy_History\n",
                "import plotly.express as px\n",
                "import numpy as np\n",
                "import plotly.io as pio\n",
                "import cv2\n",
                "pio.renderers.default = \"browser\""
            ]
        },
        {
            "cell_type": "code",
            "execution_count": 2,
            "metadata": {},
            "outputs": [],
            "source": [
                "def plot_res(vec, title):\n",
                "    fig = px.line(x=range(len(np.convolve(vec, np.ones(100)/100,mode='valid'))), y=np.convolve(vec, np.ones(100)/100, mode='valid'), title=title)\n",
                "    fig.show()"
            ]
        },
        {
            "cell_type": "code",
            "execution_count": 3,
            "metadata": {},
            "outputs": [
                {
                    "name": "stdout",
                    "output_type": "stream",
                    "text": [
                        "['SingleTaxiEnv', 'FrozenLakeEnv', 'AdversarialEnv', 'ReparameterizedAdversarialEnv', 'MiniAdversarialEnv', 'MiniReparameterizedAdversarialEnv', 'NoisyAdversarialEnv', 'MediumAdversarialEnv']\n"
                    ]
                }
            ],
            "source": [
                "device = utils.init_torch()\n",
                "env_names = get_all_avail_envs()\n",
                "print(env_names[:8])"
            ]
        },
        {
            "cell_type": "code",
            "execution_count": 4,
            "metadata": {},
            "outputs": [],
            "source": [
                "env = all_envs['MiniAdversarialEnv'](random_reset_loc=False)\n",
                "n_actions = env.action_space.n\n",
                "obs_shape = env.observation_space\n",
                "gen_obs_shape = env.get_generator_observation_space()\n",
                "gen_action_dim = env.get_generator_action_space().n"
            ]
        },
        {
            "cell_type": "markdown",
            "metadata": {},
            "source": [
                "# RANDOM CURRICULUM"
            ]
        },
        {
            "cell_type": "code",
            "execution_count": 10,
            "metadata": {},
            "outputs": [
                {
                    "name": "stdout",
                    "output_type": "stream",
                    "text": [
                        "loading metadatafrom ./results/Random_Curriculum/MiniAdversarialEnv/meta_data.pkl\n",
                        "loading models from last iter: 49999\n"
                    ]
                },
                {
                    "name": "stderr",
                    "output_type": "stream",
                    "text": [
                        "R:000000.2, entropy: 0.4789: 100%|██████████| 1/1 [00:00<00:00,  2.77it/s]\n"
                    ]
                }
            ],
            "source": [
                "r_agent = PPO_Agent(obs_shape, n_actions, device=device, batch_size=64, max_mem_size=10**5,num_parallel_envs=4, lr=0.0001, model=rnn.RNN)\n",
                "r_teacher = Random_Curriculum(env ,trainee=r_agent)\n",
                "r_rewards = r_teacher.teach(n_iters=50000, n_episodes=1)"
            ]
        },
        {
            "cell_type": "markdown",
            "metadata": {},
            "source": [
                "# PAIRED CURRICULUM"
            ]
        },
        {
            "cell_type": "code",
            "execution_count": 9,
            "metadata": {},
            "outputs": [
                {
                    "name": "stdout",
                    "output_type": "stream",
                    "text": [
                        "loading metadatafrom ./results/PAIRED_Curriculum/MiniAdversarialEnv/meta_data.pkl\n",
                        "loading models from last iter: 49999\n"
                    ]
                },
                {
                    "name": "stderr",
                    "output_type": "stream",
                    "text": [
                        "R:000000.0, entropy: 1.5: 100%|██████████| 1/1 [00:00<00:00,  1.29it/s]\n"
                    ]
                }
            ],
            "source": [
                "p_agent = PPO_Agent(obs_shape, n_actions, device=device, batch_size=64, max_mem_size=10**5, lr=0.0001, model=rnn.RNN)\n",
                "teacher_agent = PPO_Agent(gen_obs_shape, gen_action_dim, device=device, batch_size=64, max_mem_size=10**5, lr=0.0001, model=rnn.RNN)\n",
                "p_teacher = PAIRED_Curriculum(env, teacher_agent=teacher_agent ,trainee=p_agent)\n",
                "p_rewards = p_teacher.teach(n_iters=50000, n_episodes=1)"
            ]
        },
        {
            "cell_type": "markdown",
            "metadata": {},
            "source": [
                "# PAIRED NO REGRET ENT"
            ]
        },
        {
            "cell_type": "code",
            "execution_count": 8,
            "metadata": {},
            "outputs": [
                {
                    "name": "stdout",
                    "output_type": "stream",
                    "text": [
                        "loading metadatafrom ./results/PAIRED_Curriculum_no_regret_entropy/MiniAdversarialEnv/meta_data.pkl\n",
                        "loading models from last iter: 49999\n"
                    ]
                },
                {
                    "name": "stderr",
                    "output_type": "stream",
                    "text": [
                        "R:000000.0, entropy: 0.4054: 100%|██████████| 1/1 [00:01<00:00,  1.19s/it]\n"
                    ]
                }
            ],
            "source": [
                "pen_agent = PPO_Agent(obs_shape, n_actions, device=device, batch_size=64, max_mem_size=10**5, lr=0.0001, model=rnn.RNN)\n",
                "pen_teacher_agent = PPO_Agent(gen_obs_shape, gen_action_dim, device=device, batch_size=64, max_mem_size=10**5, lr=0.0001, model=rnn.RNN)\n",
                "pen_teacher = PAIRED_Curriculum_no_regret_entropy(env, teacher_agent=pen_teacher_agent ,trainee=pen_agent)\n",
                "pen_rewards = pen_teacher.teach(n_iters=50000, n_episodes=1)"
            ]
        },
        {
            "cell_type": "markdown",
            "metadata": {},
            "source": [
                "# PAIRED NO REGRET HISTORY"
            ]
        },
        {
            "cell_type": "code",
            "execution_count": 24,
            "metadata": {},
            "outputs": [
                {
                    "name": "stderr",
                    "output_type": "stream",
                    "text": [
                        "R:000000.0, entropy: 0.5919: 100%|██████████| 14401/14401 [1:25:47<00:00,  2.80it/s]\n"
                    ]
                }
            ],
            "source": [
                "penh_agent = PPO_Agent(obs_shape, n_actions, device=device, batch_size=64, max_mem_size=10**5, lr=0.0001, model=rnn.RNN)\n",
                "penh_teacher_agent = PPO_Agent(gen_obs_shape, gen_action_dim, device=device, batch_size=64, max_mem_size=10**5, lr=0.0001, model=rnn.RNN)\n",
                "penh_teacher = PAIRED_Curriculum_no_regret_history(env, teacher_agent=penh_teacher_agent ,trainee=penh_agent)\n",
                "penh_rewards = penh_teacher.teach(n_iters=50000, n_episodes=1)"
            ]
        },
        {
            "cell_type": "markdown",
            "metadata": {},
            "source": [
                "# ENTROPY ONLY"
            ]
        },
        {
            "cell_type": "code",
            "execution_count": 7,
            "metadata": {},
            "outputs": [
                {
                    "name": "stdout",
                    "output_type": "stream",
                    "text": [
                        "loading metadatafrom ./results/Curriculum_Entropy_Only/MiniAdversarialEnv/meta_data.pkl\n",
                        "loading models from last iter: 49999\n"
                    ]
                },
                {
                    "name": "stderr",
                    "output_type": "stream",
                    "text": [
                        "R:00000.95, entropy: 0.9398: 100%|██████████| 1/1 [00:00<00:00,  2.26it/s]\n"
                    ]
                }
            ],
            "source": [
                "pee_agent = PPO_Agent(obs_shape, n_actions, device=device, batch_size=64, max_mem_size=10**5, lr=0.0001, model=rnn.RNN)\n",
                "pee_teacher_agent = PPO_Agent(gen_obs_shape, gen_action_dim, device=device, batch_size=64, max_mem_size=10**5 ,lr=0.0001, model=rnn.RNN)\n",
                "pee_teacher = Curriculum_Entropy_Only(env, teacher_agent=pee_teacher_agent ,trainee=pee_agent, inv_reward_entropy_coeff=1)\n",
                "pee_rewards = pee_teacher.teach(n_iters=50000, n_episodes=1)"
            ]
        },
        {
            "cell_type": "markdown",
            "metadata": {},
            "source": [
                "# ENTROPY +History ONLY"
            ]
        },
        {
            "cell_type": "code",
            "execution_count": 11,
            "metadata": {},
            "outputs": [
                {
                    "name": "stdout",
                    "output_type": "stream",
                    "text": [
                        "loading metadatafrom ./results/Curriculum_Entropy_History/MiniAdversarialEnv/meta_data.pkl\n",
                        "loading models from last iter: 49999\n"
                    ]
                },
                {
                    "name": "stderr",
                    "output_type": "stream",
                    "text": [
                        "R:00000.93, entropy: 0.3755: 100%|██████████| 51/51 [00:05<00:00,  9.39it/s]\n"
                    ]
                }
            ],
            "source": [
                "peh_agent = PPO_Agent(obs_shape, n_actions, device=device, batch_size=64, max_mem_size=10**5, lr=0.0001, model=rnn.RNN)\n",
                "peh_teacher_agent = PPO_Agent(gen_obs_shape, gen_action_dim, device=device, batch_size=64, max_mem_size=10**5 ,lr=0.0001, model=rnn.RNN)\n",
                "peh_teacher = Curriculum_Entropy_History(env, teacher_agent=peh_teacher_agent ,trainee=peh_agent, inv_reward_entropy_coeff=1)\n",
                "peh_rewards = peh_teacher.teach(n_iters=50050, n_episodes=1)"
            ]
        },
        {
            "cell_type": "code",
            "execution_count": 8,
            "metadata": {},
            "outputs": [],
            "source": [
                "e = pee_teacher.create_envs(1)[0]"
            ]
        },
        {
            "cell_type": "code",
            "execution_count": 9,
            "metadata": {},
            "outputs": [
                {
                    "data": {
                        "text/plain": [
                            "<matplotlib.image.AxesImage at 0x7f65d910b760>"
                        ]
                    },
                    "execution_count": 9,
                    "metadata": {},
                    "output_type": "execute_result"
                },
                {
                    "data": {
                        "image/png": "[encoded data removed]",
                        "text/plain": [
                            "<Figure size 432x288 with 1 Axes>"
                        ]
                    },
                    "metadata": {
                        "needs_background": "light"
                    },
                    "output_type": "display_data"
                }
            ],
            "source": [
                "o = e.reset()\n",
                "plt.imshow(e.render('rgb_array'))"
            ]
        },
        {
            "cell_type": "code",
            "execution_count": null,
            "metadata": {},
            "outputs": [],
            "source": [
                "plot_res(pee_teacher.agent_train_entropy, \"trainee_entropy\")"
            ]
        },
        {
            "cell_type": "code",
            "execution_count": null,
            "metadata": {},
            "outputs": [],
            "source": [
                "env = pee_teacher.create_envs(1)[0]\n",
                "plt.imshow(env.render('rgb_array'))"
            ]
        },
        {
            "cell_type": "markdown",
            "metadata": {},
            "source": [
                "# RESULTS CHECK"
            ]
        },
        {
            "cell_type": "code",
            "execution_count": 43,
            "metadata": {},
            "outputs": [],
            "source": [
                "env = pee_teacher.create_envs(1)[0]"
            ]
        },
        {
            "cell_type": "code",
            "execution_count": 21,
            "metadata": {},
            "outputs": [
                {
                    "data": {
                        "text/plain": [
                            "<matplotlib.image.AxesImage at 0x7f4668657f70>"
                        ]
                    },
                    "execution_count": 21,
                    "metadata": {},
                    "output_type": "execute_result"
                },
                {
                    "data": {
                        "image/png": "[encoded data removed]",
                        "text/plain": [
                            "<Figure size 432x288 with 1 Axes>"
                        ]
                    },
                    "metadata": {
                        "needs_background": "light"
                    },
                    "output_type": "display_data"
                }
            ],
            "source": [
                "env.reset_random()\n",
                "plt.imshow(env.render('rgb_array'))"
            ]
        },
        {
            "cell_type": "code",
            "execution_count": 34,
            "metadata": {},
            "outputs": [],
            "source": [
                "env = test_envs[\"Cluttered40Minigrid\"]()"
            ]
        },
        {
            "cell_type": "code",
            "execution_count": null,
            "metadata": {},
            "outputs": [],
            "source": [
                "#pen_agent, p_agent, r_agent, pee_agent"
            ]
        },
        {
            "cell_type": "code",
            "execution_count": 35,
            "metadata": {},
            "outputs": [
                {
                    "data": {
                        "image/png": "[encoded data removed]",
                        "text/plain": [
                            "<Figure size 432x288 with 1 Axes>"
                        ]
                    },
                    "metadata": {
                        "needs_background": "light"
                    },
                    "output_type": "display_data"
                },
                {
                    "name": "stdout",
                    "output_type": "stream",
                    "text": [
                        "2 0.33399999999999996 True\n",
                        "evaluation episode: 0 R: 0.33399999999999996\n"
                    ]
                }
            ],
            "source": [
                "agent = pee_agent\n",
                "agent.set_eval_mode()\n",
                "vid = []\n",
                "for i in range(1):\n",
                "    obs = env.reset()\n",
                "    # break\n",
                "    R = 0\n",
                "    t = 0\n",
                "    while True:\n",
                "        # Uncomment to watch the behavior in a GUI window\n",
                "        clear_output(wait=True)\n",
                "        frame = env.render('rgb_array')\n",
                "        vid.append(frame)\n",
                "        plt.imshow(frame)\n",
                "        plt.show()\n",
                "        # env.render(mode='rgb_array')\n",
                "        # env.render()\n",
                "        action = agent.act(obs)\n",
                "        obs, r, done, _ = env.step(action)\n",
                "        print(action, r, done)\n",
                "\n",
                "        R += r\n",
                "        t += 1\n",
                "        reset = t == 500\n",
                "        time.sleep(0.01)\n",
                "\n",
                "        if done or reset:\n",
                "            break\n",
                "    print('evaluation episode:', i, 'R:', R)"
            ]
        },
        {
            "cell_type": "code",
            "execution_count": 418,
            "metadata": {},
            "outputs": [],
            "source": [
                "save_vid(vid,'test')"
            ]
        },
        {
            "cell_type": "code",
            "execution_count": 376,
            "metadata": {},
            "outputs": [],
            "source": [
                "def save_vid(frames, vid_name):\n",
                "    out = cv2.VideoWriter(vid_name+'.avi',cv2.VideoWriter_fourcc(*'DIVX'), 15, (800,640))\n",
                " \n",
                "    for i in range(len(frames)):\n",
                "        frame = cv2.cvtColor(frames[i], cv2.COLOR_RGB2BGR)\n",
                "        frame = cv2.resize(frame, (800,640))\n",
                "        out.write(frame)\n",
                "    out.release()"
            ]
        },
        {
            "cell_type": "markdown",
            "metadata": {},
            "source": [
                "# Curriculum results"
            ]
        },
        {
            "cell_type": "code",
            "execution_count": 12,
            "metadata": {},
            "outputs": [],
            "source": [
                "def run_agent(agent, env, num_iters=1, plot=False):\n",
                "    agent.set_eval_mode()\n",
                "    mean_r = 0\n",
                "    for i in range(num_iters):\n",
                "        obs = env.reset()\n",
                "        # break\n",
                "        R = 0\n",
                "        t = 0\n",
                "        while True:\n",
                "            # Uncomment to watch the behavior in a GUI window\n",
                "            if plot:\n",
                "                clear_output(wait=True)\n",
                "                plt.imshow(env.render('rgb_array'))\n",
                "                plt.show()\n",
                "                time.sleep(0.01)\n",
                "\n",
                "            # env.render(mode='rgb_array')\n",
                "            # env.render()\n",
                "            action = agent.act(obs)\n",
                "            obs, r, done, _ = env.step(action)\n",
                "\n",
                "            R += r\n",
                "            t += 1\n",
                "            reset = t == 500\n",
                "\n",
                "            if done or reset:\n",
                "                break\n",
                "        mean_r +=R\n",
                "    return mean_r / num_iters"
            ]
        },
        {
            "cell_type": "code",
            "execution_count": 13,
            "metadata": {},
            "outputs": [],
            "source": [
                "runable_envs = {}\n",
                "for env_name in get_all_avail_test_envs():\n",
                "    try:\n",
                "        test_env = test_envs[env_name]()\n",
                "        runable_envs[env_name] = test_env\n",
                "    except:\n",
                "        print(\"Exception\",env_name, test_env.minigrid_mode)"
            ]
        },
        {
            "cell_type": "code",
            "execution_count": 25,
            "metadata": {},
            "outputs": [],
            "source": [
                "agents = {\"paired_entropy\": pen_agent, \"paired\":p_agent, \"random\":r_agent, \"entropy_only\":pee_agent, \"entropy_history\": peh_agent, \"paired_entropy_history\": penh_agent}"
            ]
        },
        {
            "cell_type": "code",
            "execution_count": 26,
            "metadata": {},
            "outputs": [],
            "source": [
                "def calc_result(agents, runable_envs):\n",
                "    i=0\n",
                "    all_results = np.zeros((len(runable_envs), len(agents)))\n",
                "    for env_name,env in runable_envs.items():\n",
                "        print(env_name, i, len(runable_envs))\n",
                "        j= 0\n",
                "        for a_name, a in agents.items():\n",
                "            env.__init__()\n",
                "            res = run_agent(a, env)\n",
                "            all_results[i][j] = res\n",
                "            j+=1\n",
                "        i+=1\n",
                "    return all_results"
            ]
        },
        {
            "cell_type": "code",
            "execution_count": 27,
            "metadata": {},
            "outputs": [
                {
                    "name": "stdout",
                    "output_type": "stream",
                    "text": [
                        "Cluttered40Minigrid 0 28\n",
                        "Cluttered10Minigrid 1 28\n",
                        "Cluttered50Minigrid 2 28\n",
                        "Cluttered5Minigrid 3 28\n",
                        "Cluttered1MinigridMini 4 28\n",
                        "Cluttered6MinigridMini 5 28\n",
                        "Cluttered7MinigridMini 6 28\n",
                        "ClutteredMinigridLava 7 28\n",
                        "ClutteredMinigridLavaMini 8 28\n",
                        "ClutteredMinigridLavaMedium 9 28\n",
                        "Cluttered15MinigridMedium 10 28\n",
                        "EmptyRandomEnv6x6Minigrid 11 28\n",
                        "EmptyRandomEnv15x15Minigrid 12 28\n",
                        "TwoRoomsEnvMinigrid 13 28\n",
                        "FourRoomsEnvMinigrid 14 28\n",
                        "MiniTwoRoomsEnvMinigrid 15 28\n",
                        "MiniFourRoomsEnvMinigrid 16 28\n",
                        "MazeEnv 17 28\n",
                        "MiniMazeEnv 18 28\n",
                        "MediumMazeEnv 19 28\n",
                        "HorizontalMazeEnv 20 28\n",
                        "Maze3Env 21 28\n",
                        "LabyrinthEnv 22 28\n",
                        "Labyrinth2Env 23 28\n",
                        "SixteenRoomsEnv 24 28\n",
                        "SixteenRoomsFewerDoorsEnv 25 28\n",
                        "NineRoomsEnv 26 28\n",
                        "NineRoomsFewerDoorsEnv 27 28\n"
                    ]
                }
            ],
            "source": [
                "all_results = calc_result(agents, runable_envs)"
            ]
        },
        {
            "cell_type": "code",
            "execution_count": null,
            "metadata": {},
            "outputs": [],
            "source": [
                "all_results"
            ]
        },
        {
            "cell_type": "code",
            "execution_count": 28,
            "metadata": {},
            "outputs": [],
            "source": [
                "clean_env_names = np.array(list(runable_envs.keys()))[~np.all(all_results == 0, axis=1)]\n",
                "clean_res = all_results[~np.all(all_results == 0, axis=1)]"
            ]
        },
        {
            "cell_type": "code",
            "execution_count": 29,
            "metadata": {},
            "outputs": [
                {
                    "name": "stdout",
                    "output_type": "stream",
                    "text": [
                        "Opening in existing browser session.\n"
                    ]
                }
            ],
            "source": [
                "plot_test_res_all(clean_res, clean_env_names, agents)"
            ]
        },
        {
            "cell_type": "code",
            "execution_count": 31,
            "metadata": {},
            "outputs": [
                {
                    "name": "stdout",
                    "output_type": "stream",
                    "text": [
                        "paired_entropy_mean: 0.36001785714285717\n",
                        "paired_mean: 0.17899642857142858\n",
                        "random_mean: 0.3785392857142857\n",
                        "entropy_only_mean: 0.3415750000000001\n",
                        "entropy_history_mean: 0.31835\n",
                        "paired_entropy_history_mean: 0.35960714285714285\n"
                    ]
                }
            ],
            "source": [
                "print_mean_score(all_results, agents)"
            ]
        },
        {
            "cell_type": "code",
            "execution_count": 20,
            "metadata": {},
            "outputs": [],
            "source": [
                "def print_mean_score(all_results, agents):\n",
                "    scores = np.mean(all_results, axis=0)\n",
                "    for i,a in enumerate(agents):\n",
                "        print(f\"{a}_mean:\", scores[i])"
            ]
        },
        {
            "cell_type": "code",
            "execution_count": 21,
            "metadata": {},
            "outputs": [],
            "source": [
                "from plotly.subplots import make_subplots\n",
                "from plotly import graph_objects as go\n",
                "def plot_test_res_all(data_array, env_names, agents_dict):\n",
                "    color10_16 = ['violet', 'orange', 'cyan', \"green\",  \"yellow\"]\n",
                "    col_len = int(np.sqrt(len(env_names)))\n",
                "    row_len = (col_len + len(env_names) - col_len**2)\n",
                "    fig = make_subplots(rows=row_len, cols=col_len, subplot_titles=env_names)\n",
                "    for i,env_name in enumerate(env_names):\n",
                "        fig.add_trace(\n",
                "            go.Bar(\n",
                "                name=env_name,\n",
                "                x=list(agents_dict.keys()),\n",
                "                y=data_array[i],\n",
                "                marker_color=color10_16\n",
                "            ),\n",
                "            row=(i // col_len) +1 ,\n",
                "            col =(i % col_len)+1,\n",
                "            \n",
                "        )\n",
                "    fig.update_layout(height=1600, width=1600, title_text=\"Reward Comparation\", showlegend=False, legend=dict(\n",
                "    yanchor=\"bottom\",\n",
                "    y=-0.5,\n",
                "    xanchor=\"right\",\n",
                "    x=1\n",
                "))\n",
                "    fig.show()"
            ]
        },
        {
            "cell_type": "markdown",
            "metadata": {},
            "source": [
                "# FOR DEBUG"
            ]
        },
        {
            "cell_type": "code",
            "execution_count": null,
            "metadata": {},
            "outputs": [],
            "source": [
                "o=env.reset()\n",
                "agent = pee_agent\n",
                "agent.reset_rnn_hidden()\n",
                "# o = env.reset()\n",
                "v= agent.pre_process_obs_for_act(o,1)\n",
                "agent.critic_model(v)\n",
                "\n",
                "o,_,_,_ = env.step(2)\n",
                "plt.imshow(env.render('rgb_array'))"
            ]
        }
    ],
    "metadata": {
        "interpreter": {
            "hash": "6939f772228930f094315145e416d5954b20b1f6473e0de1ef78293fcab749f1"
        },
        "kernelspec": {
            "display_name": "Python 3.9.7 64-bit ('venv': venv)",
            "name": "python3"
        },
        "language_info": {
            "codemirror_mode": {
                "name": "ipython",
                "version": 3
            },
            "file_extension": ".py",
            "mimetype": "text/x-python",
            "name": "python",
            "nbconvert_exporter": "python",
            "pygments_lexer": "ipython3",
            "version": "3.9.9"
        },
        "orig_nbformat": 4
    },
    "nbformat": 4,
    "nbformat_minor": 2
}
