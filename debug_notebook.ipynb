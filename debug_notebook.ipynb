{
    "cells": [
        {
            "cell_type": "code",
            "execution_count": 1,
            "metadata": {},
            "outputs": [],
            "source": [
                "\n",
                "from Environments.environments import all_envs, get_all_avail_envs\n",
                "from Models import fc, rnn\n",
                "from Agents.dqn_agent import DQN_Agent\n",
                "\n",
                "import torch\n",
                "import numpy as np\n",
                "import matplotlib.pyplot as plt\n",
                "import torch\n",
                "from tqdm import tqdm\n",
                "import utils\n",
                "# from Curriculum_managers\n",
                "\n"
            ]
        },
        {
            "cell_type": "code",
            "execution_count": 2,
            "metadata": {},
            "outputs": [
                {
                    "data": {
                        "text/plain": [
                            "['SingleTaxiEnv', 'FrozenLakeEnv']"
                        ]
                    },
                    "execution_count": 2,
                    "metadata": {},
                    "output_type": "execute_result"
                }
            ],
            "source": [
                "env_names = get_all_avail_envs()\n",
                "env_names"
            ]
        },
        {
            "cell_type": "code",
            "execution_count": 3,
            "metadata": {},
            "outputs": [],
            "source": [
                "device = utils.init_torch()"
            ]
        },
        {
            "cell_type": "code",
            "execution_count": 4,
            "metadata": {},
            "outputs": [],
            "source": [
                "env = all_envs['SingleTaxiEnv'](random_reset_loc=True)\n",
                "n_actions = env.action_space.n\n",
                "obs_shape = env.observation_space['image'].shape\n",
                "env.dummy_init()"
            ]
        },
        {
            "cell_type": "code",
            "execution_count": 5,
            "metadata": {},
            "outputs": [],
            "source": [
                "# env = FrozenLakeEnv(random_reset_loc=True)\n",
                "# n_actions = env.action_space.n\n",
                "# obs_shape = env.observation_space['image'].shape\n",
                "# env.dummy_init()"
            ]
        },
        {
            "cell_type": "code",
            "execution_count": 6,
            "metadata": {},
            "outputs": [],
            "source": [
                "agent = DQN_Agent(obs_shape, n_actions, device=device, batch_size=32, max_mem_size=10**4, exploration_epsilon=0.3, eps_dec=0)"
            ]
        },
        {
            "cell_type": "code",
            "execution_count": null,
            "metadata": {},
            "outputs": [],
            "source": [
                "agent.train_episodial(env, 1000)"
            ]
        },
        {
            "cell_type": "code",
            "execution_count": 26,
            "metadata": {},
            "outputs": [],
            "source": [
                "agent.load_agent('q_agent.ckpt')"
            ]
        },
        {
            "cell_type": "code",
            "execution_count": null,
            "metadata": {},
            "outputs": [],
            "source": [
                "#train 20K episodes for taxi or ~ 4B env steps\n",
                "for i in range(20):\n",
                "    episodes_rewards = agent.train(env, 1000)\n",
                "    agent.save_agent('q_agent.ckpt')"
            ]
        },
        {
            "cell_type": "code",
            "execution_count": 7,
            "metadata": {},
            "outputs": [],
            "source": [
                "agent.load_agent('q_agent.ckpt')"
            ]
        },
        {
            "cell_type": "code",
            "execution_count": 8,
            "metadata": {},
            "outputs": [],
            "source": [
                "# %matplotlib notebook\n",
                "%matplotlib inline\n",
                "# %matplotlib notebook  \n",
                "\n",
                "from IPython.display import clear_output\n",
                "import time"
            ]
        },
        {
            "cell_type": "code",
            "execution_count": 18,
            "metadata": {},
            "outputs": [
                {
                    "data": {
                        "image/png": "[encoded data removed]",
                        "text/plain": [
                            "<Figure size 432x288 with 1 Axes>"
                        ]
                    },
                    "metadata": {
                        "needs_background": "light"
                    },
                    "output_type": "display_data"
                },
                {
                    "name": "stdout",
                    "output_type": "stream",
                    "text": [
                        "5 20\n",
                        "evaluation episode: 0 R: 14\n"
                    ]
                }
            ],
            "source": [
                "agent.set_eval_mode()\n",
                "for i in range(1):\n",
                "    obs = env.reset()\n",
                "    R = 0\n",
                "    t = 0\n",
                "    while True:\n",
                "        # Uncomment to watch the behavior in a GUI window\n",
                "        clear_output(wait=True)\n",
                "        plt.imshow(env.render('rgb_array'))\n",
                "        plt.show()\n",
                "        action = agent.act(obs)\n",
                "        obs, r, done, _ = env.step(action)\n",
                "        print(action, r)\n",
                "\n",
                "        R += r\n",
                "        t += 1\n",
                "        reset = t == 200\n",
                "        time.sleep(0.5)\n",
                "        if done or reset:\n",
                "            break\n",
                "    print('evaluation episode:', i, 'R:', R)"
            ]
        }
    ],
    "metadata": {
        "interpreter": {
            "hash": "6939f772228930f094315145e416d5954b20b1f6473e0de1ef78293fcab749f1"
        },
        "kernelspec": {
            "display_name": "Python 3.9.7 64-bit ('venv': venv)",
            "name": "python3"
        },
        "language_info": {
            "codemirror_mode": {
                "name": "ipython",
                "version": 3
            },
            "file_extension": ".py",
            "mimetype": "text/x-python",
            "name": "python",
            "nbconvert_exporter": "python",
            "pygments_lexer": "ipython3",
            "version": "3.9.7"
        },
        "orig_nbformat": 4
    },
    "nbformat": 4,
    "nbformat_minor": 2
}
